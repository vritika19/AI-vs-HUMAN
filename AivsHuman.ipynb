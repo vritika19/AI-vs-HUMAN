{
 "cells": [
  {
   "cell_type": "code",
   "execution_count": 48,
   "metadata": {},
   "outputs": [
    {
     "name": "stdout",
     "output_type": "stream",
     "text": [
      "Requirement already satisfied: tqdm in ./jupyter-env/lib/python3.13/site-packages (4.67.1)\n"
     ]
    }
   ],
   "source": [
    "!pip install tqdm \n",
    "import tqdm\n",
    "from tqdm import tqdm\n",
    "tqdm.pandas()"
   ]
  },
  {
   "cell_type": "code",
   "execution_count": 45,
   "metadata": {
    "colab": {
     "base_uri": "https://localhost:8080/"
    },
    "id": "BaNYrikFMAXb",
    "outputId": "1f06d7f1-1650-448c-8300-e20279378733"
   },
   "outputs": [
    {
     "name": "stdout",
     "output_type": "stream",
     "text": [
      "Requirement already satisfied: joblib in ./jupyter-env/lib/python3.13/site-packages (1.5.1)\n",
      "Requirement already satisfied: torch in ./jupyter-env/lib/python3.13/site-packages (2.7.1)\n",
      "Requirement already satisfied: filelock in ./jupyter-env/lib/python3.13/site-packages (from torch) (3.18.0)\n",
      "Requirement already satisfied: typing-extensions>=4.10.0 in ./jupyter-env/lib/python3.13/site-packages (from torch) (4.14.1)\n",
      "Requirement already satisfied: setuptools in ./jupyter-env/lib/python3.13/site-packages (from torch) (80.9.0)\n",
      "Requirement already satisfied: sympy>=1.13.3 in ./jupyter-env/lib/python3.13/site-packages (from torch) (1.14.0)\n",
      "Requirement already satisfied: networkx in ./jupyter-env/lib/python3.13/site-packages (from torch) (3.5)\n",
      "Requirement already satisfied: jinja2 in ./jupyter-env/lib/python3.13/site-packages (from torch) (3.1.6)\n",
      "Requirement already satisfied: fsspec in ./jupyter-env/lib/python3.13/site-packages (from torch) (2025.7.0)\n",
      "Requirement already satisfied: mpmath<1.4,>=1.1.0 in ./jupyter-env/lib/python3.13/site-packages (from sympy>=1.13.3->torch) (1.3.0)\n",
      "Requirement already satisfied: MarkupSafe>=2.0 in ./jupyter-env/lib/python3.13/site-packages (from jinja2->torch) (3.0.2)\n"
     ]
    },
    {
     "name": "stderr",
     "output_type": "stream",
     "text": [
      "[nltk_data] Downloading package stopwords to\n",
      "[nltk_data]     /Users/vritika/nltk_data...\n",
      "[nltk_data]   Package stopwords is already up-to-date!\n",
      "[nltk_data] Downloading package punkt to /Users/vritika/nltk_data...\n",
      "[nltk_data]   Package punkt is already up-to-date!\n",
      "[nltk_data] Downloading package punkt_tab to\n",
      "[nltk_data]     /Users/vritika/nltk_data...\n",
      "[nltk_data]   Package punkt_tab is already up-to-date!\n",
      "[nltk_data] Downloading package wordnet to /Users/vritika/nltk_data...\n",
      "[nltk_data]   Package wordnet is already up-to-date!\n"
     ]
    },
    {
     "data": {
      "text/plain": [
       "True"
      ]
     },
     "execution_count": 45,
     "metadata": {},
     "output_type": "execute_result"
    }
   ],
   "source": [
    "import kagglehub\n",
    "import string\n",
    "import nltk\n",
    "from nltk.tokenize import word_tokenize\n",
    "from nltk.corpus import stopwords\n",
    "from nltk.stem import PorterStemmer, WordNetLemmatizer\n",
    "from sklearn.feature_extraction.text import TfidfVectorizer\n",
    "import matplotlib.pyplot as plt\n",
    "import seaborn as sns\n",
    "from collections import Counter\n",
    "from sklearn.model_selection import train_test_split\n",
    "from sklearn.linear_model import LogisticRegression\n",
    "from sklearn.naive_bayes import MultinomialNB\n",
    "from sklearn.svm import LinearSVC\n",
    "from sklearn.metrics import accuracy_score, classification_report\n",
    "import os\n",
    "import pandas as pd\n",
    "!pip install joblib\n",
    "import joblib\n",
    "!pip install torch \n",
    "import torch\n",
    "from nltk.probability import FreqDist\n",
    "nltk.download('stopwords')\n",
    "nltk.download('punkt')\n",
    "nltk.download('punkt_tab')\n",
    "nltk.download('wordnet')"
   ]
  },
  {
   "cell_type": "code",
   "execution_count": 9,
   "metadata": {
    "colab": {
     "base_uri": "https://localhost:8080/"
    },
    "id": "GKjI77eHV0o3",
    "outputId": "69f1cff8-f52b-449c-edfe-503ad4b93a1e"
   },
   "outputs": [
    {
     "name": "stdout",
     "output_type": "stream",
     "text": [
      "Path to dataset files: /Users/vritika/.cache/kagglehub/datasets/shanegerami/ai-vs-human-text/versions/1\n"
     ]
    }
   ],
   "source": [
    "path = kagglehub.dataset_download(\"shanegerami/ai-vs-human-text\")\n",
    "\n",
    "print(\"Path to dataset files:\", path)"
   ]
  },
  {
   "cell_type": "code",
   "execution_count": 10,
   "metadata": {
    "colab": {
     "base_uri": "https://localhost:8080/"
    },
    "id": "hDa-Mqg7Ns3g",
    "outputId": "c49face7-063b-488a-bb5d-14685917d22a"
   },
   "outputs": [
    {
     "name": "stdout",
     "output_type": "stream",
     "text": [
      "name of file in the folder :  ['AI_Human.csv']\n"
     ]
    }
   ],
   "source": [
    "list_file=os.listdir(path)\n",
    "print(f\"name of file in the folder :  {list_file}\")"
   ]
  },
  {
   "cell_type": "code",
   "execution_count": 11,
   "metadata": {
    "id": "EBJ5hwGtP8c6"
   },
   "outputs": [],
   "source": [
    "dataframe = pd.read_csv(f\"{path}/{list_file[0]}\")"
   ]
  },
  {
   "cell_type": "code",
   "execution_count": 119,
   "metadata": {
    "id": "K4KRr8mKxyV-"
   },
   "outputs": [],
   "source": [
    "df = dataframe.sample(n=45000, random_state=42)"
   ]
  },
  {
   "cell_type": "code",
   "execution_count": 120,
   "metadata": {
    "colab": {
     "base_uri": "https://localhost:8080/",
     "height": 204
    },
    "id": "yYhOxZQPQBnV",
    "outputId": "deb99896-3201-4744-d90e-10f63060ef4c"
   },
   "outputs": [
    {
     "data": {
      "text/html": [
       "<div>\n",
       "<style scoped>\n",
       "    .dataframe tbody tr th:only-of-type {\n",
       "        vertical-align: middle;\n",
       "    }\n",
       "\n",
       "    .dataframe tbody tr th {\n",
       "        vertical-align: top;\n",
       "    }\n",
       "\n",
       "    .dataframe thead th {\n",
       "        text-align: right;\n",
       "    }\n",
       "</style>\n",
       "<table border=\"1\" class=\"dataframe\">\n",
       "  <thead>\n",
       "    <tr style=\"text-align: right;\">\n",
       "      <th></th>\n",
       "      <th>text</th>\n",
       "      <th>generated</th>\n",
       "    </tr>\n",
       "  </thead>\n",
       "  <tbody>\n",
       "    <tr>\n",
       "      <th>419952</th>\n",
       "      <td>Real or Fake Feelings\\n\\n\"Imagine being able t...</td>\n",
       "      <td>0.0</td>\n",
       "    </tr>\n",
       "    <tr>\n",
       "      <th>478535</th>\n",
       "      <td>Seeking multiple opinions can help you make be...</td>\n",
       "      <td>0.0</td>\n",
       "    </tr>\n",
       "    <tr>\n",
       "      <th>133753</th>\n",
       "      <td>ADDRESS_NAME\\n\\nFebruary 9, 2011\\n\\nDear TEACH...</td>\n",
       "      <td>0.0</td>\n",
       "    </tr>\n",
       "    <tr>\n",
       "      <th>68011</th>\n",
       "      <td>Dear, TEACHER_NAME,\\n\\nTEACHER_NAME I Believe ...</td>\n",
       "      <td>0.0</td>\n",
       "    </tr>\n",
       "    <tr>\n",
       "      <th>195939</th>\n",
       "      <td>Do you believe that there is a computer that c...</td>\n",
       "      <td>0.0</td>\n",
       "    </tr>\n",
       "  </tbody>\n",
       "</table>\n",
       "</div>"
      ],
      "text/plain": [
       "                                                     text  generated\n",
       "419952  Real or Fake Feelings\\n\\n\"Imagine being able t...        0.0\n",
       "478535  Seeking multiple opinions can help you make be...        0.0\n",
       "133753  ADDRESS_NAME\\n\\nFebruary 9, 2011\\n\\nDear TEACH...        0.0\n",
       "68011   Dear, TEACHER_NAME,\\n\\nTEACHER_NAME I Believe ...        0.0\n",
       "195939  Do you believe that there is a computer that c...        0.0"
      ]
     },
     "execution_count": 120,
     "metadata": {},
     "output_type": "execute_result"
    }
   ],
   "source": [
    "df.head()"
   ]
  },
  {
   "cell_type": "code",
   "execution_count": 121,
   "metadata": {
    "colab": {
     "base_uri": "https://localhost:8080/"
    },
    "id": "QYQFlHvPNzXy",
    "outputId": "f1b3eb76-6d25-461e-faf1-6a9a9cc6745c"
   },
   "outputs": [
    {
     "data": {
      "text/plain": [
       "(45000, 2)"
      ]
     },
     "execution_count": 121,
     "metadata": {},
     "output_type": "execute_result"
    }
   ],
   "source": [
    "df.shape"
   ]
  },
  {
   "cell_type": "code",
   "execution_count": 122,
   "metadata": {
    "colab": {
     "base_uri": "https://localhost:8080/"
    },
    "id": "s0V53J3rQRNa",
    "outputId": "8c4ea830-4a62-498a-dcab-1e94a7786856"
   },
   "outputs": [
    {
     "data": {
      "text/plain": [
       "array([0., 1.])"
      ]
     },
     "execution_count": 122,
     "metadata": {},
     "output_type": "execute_result"
    }
   ],
   "source": [
    "df['generated'].unique()"
   ]
  },
  {
   "cell_type": "markdown",
   "metadata": {
    "id": "KC7ZfSF4NsSR"
   },
   "source": [
    "Dataset consists of 487235 rows and 2 columns namely text and generated.\n",
    "\n",
    "The column 'text' is the corpus and 'generated' has two values 0 and 1.\n",
    "\n",
    "Generated by AI : 1 and Human Text: 0"
   ]
  },
  {
   "cell_type": "code",
   "execution_count": 123,
   "metadata": {},
   "outputs": [
    {
     "data": {
      "text/plain": [
       "Index(['text', 'generated'], dtype='object')"
      ]
     },
     "execution_count": 123,
     "metadata": {},
     "output_type": "execute_result"
    }
   ],
   "source": [
    "df.columns"
   ]
  },
  {
   "cell_type": "code",
   "execution_count": 124,
   "metadata": {},
   "outputs": [],
   "source": [
    "df['label']=df['generated']"
   ]
  },
  {
   "cell_type": "code",
   "execution_count": 125,
   "metadata": {},
   "outputs": [
    {
     "data": {
      "text/plain": [
       "Index(['text', 'generated', 'label'], dtype='object')"
      ]
     },
     "execution_count": 125,
     "metadata": {},
     "output_type": "execute_result"
    }
   ],
   "source": [
    "df.columns"
   ]
  },
  {
   "cell_type": "code",
   "execution_count": 126,
   "metadata": {
    "id": "KsMgaXgnQZ9c"
   },
   "outputs": [],
   "source": [
    "#Preprocessing\n",
    "#1. Lowercasing\n",
    "\n",
    "df['text'] = df['text'].str.lower()"
   ]
  },
  {
   "cell_type": "code",
   "execution_count": 127,
   "metadata": {
    "id": "MyoPi7UpNk9w"
   },
   "outputs": [],
   "source": [
    "df['label'] = df['label'].astype(int)"
   ]
  },
  {
   "cell_type": "code",
   "execution_count": 128,
   "metadata": {},
   "outputs": [],
   "source": [
    "stop_words = set(stopwords.words('english'))\n",
    "ps = PorterStemmer()\n",
    "first_person_pronouns = {\"i\", \"me\", \"my\", \"mine\", \"we\", \"us\", \"our\", \"ours\"}"
   ]
  },
  {
   "cell_type": "code",
   "execution_count": 129,
   "metadata": {
    "id": "Myl2NVvJahbv"
   },
   "outputs": [],
   "source": [
    "#3. Removing Extra Spaces\n",
    "df['text'] = df['text'].str.strip()\n",
    "df['text'] = df['text'].str.replace(r'\\s+', ' ', regex=True)"
   ]
  },
  {
   "cell_type": "code",
   "execution_count": 133,
   "metadata": {
    "id": "3f3mEJSqoEYl"
   },
   "outputs": [
    {
     "name": "stderr",
     "output_type": "stream",
     "text": [
      "100%|███████████████████████████████████| 45000/45000 [00:41<00:00, 1089.38it/s]\n"
     ]
    }
   ],
   "source": [
    "df['tokens'] = df['text'].progress_apply(word_tokenize)"
   ]
  },
  {
   "cell_type": "code",
   "execution_count": 135,
   "metadata": {
    "scrolled": true
   },
   "outputs": [
    {
     "data": {
      "text/html": [
       "<div>\n",
       "<style scoped>\n",
       "    .dataframe tbody tr th:only-of-type {\n",
       "        vertical-align: middle;\n",
       "    }\n",
       "\n",
       "    .dataframe tbody tr th {\n",
       "        vertical-align: top;\n",
       "    }\n",
       "\n",
       "    .dataframe thead th {\n",
       "        text-align: right;\n",
       "    }\n",
       "</style>\n",
       "<table border=\"1\" class=\"dataframe\">\n",
       "  <thead>\n",
       "    <tr style=\"text-align: right;\">\n",
       "      <th></th>\n",
       "      <th>text</th>\n",
       "      <th>label</th>\n",
       "      <th>tokens</th>\n",
       "    </tr>\n",
       "  </thead>\n",
       "  <tbody>\n",
       "    <tr>\n",
       "      <th>419952</th>\n",
       "      <td>real or fake feelings \"imagine being able to d...</td>\n",
       "      <td>0</td>\n",
       "      <td>[real, or, fake, feelings, ``, imagine, being,...</td>\n",
       "    </tr>\n",
       "    <tr>\n",
       "      <th>478535</th>\n",
       "      <td>seeking multiple opinions can help you make be...</td>\n",
       "      <td>0</td>\n",
       "      <td>[seeking, multiple, opinions, can, help, you, ...</td>\n",
       "    </tr>\n",
       "    <tr>\n",
       "      <th>133753</th>\n",
       "      <td>address_name february 9, 2011 dear teacher_nam...</td>\n",
       "      <td>0</td>\n",
       "      <td>[address_name, february, 9, ,, 2011, dear, tea...</td>\n",
       "    </tr>\n",
       "    <tr>\n",
       "      <th>68011</th>\n",
       "      <td>dear, teacher_name, teacher_name i believe tha...</td>\n",
       "      <td>0</td>\n",
       "      <td>[dear, ,, teacher_name, ,, teacher_name, i, be...</td>\n",
       "    </tr>\n",
       "    <tr>\n",
       "      <th>195939</th>\n",
       "      <td>do you believe that there is a computer that c...</td>\n",
       "      <td>0</td>\n",
       "      <td>[do, you, believe, that, there, is, a, compute...</td>\n",
       "    </tr>\n",
       "  </tbody>\n",
       "</table>\n",
       "</div>"
      ],
      "text/plain": [
       "                                                     text  label  \\\n",
       "419952  real or fake feelings \"imagine being able to d...      0   \n",
       "478535  seeking multiple opinions can help you make be...      0   \n",
       "133753  address_name february 9, 2011 dear teacher_nam...      0   \n",
       "68011   dear, teacher_name, teacher_name i believe tha...      0   \n",
       "195939  do you believe that there is a computer that c...      0   \n",
       "\n",
       "                                                   tokens  \n",
       "419952  [real, or, fake, feelings, ``, imagine, being,...  \n",
       "478535  [seeking, multiple, opinions, can, help, you, ...  \n",
       "133753  [address_name, february, 9, ,, 2011, dear, tea...  \n",
       "68011   [dear, ,, teacher_name, ,, teacher_name, i, be...  \n",
       "195939  [do, you, believe, that, there, is, a, compute...  "
      ]
     },
     "execution_count": 135,
     "metadata": {},
     "output_type": "execute_result"
    }
   ],
   "source": [
    "df.head()"
   ]
  },
  {
   "cell_type": "code",
   "execution_count": 136,
   "metadata": {},
   "outputs": [
    {
     "name": "stderr",
     "output_type": "stream",
     "text": [
      "100%|███████████████████████████████████| 45000/45000 [00:40<00:00, 1107.34it/s]\n",
      "100%|█████████████████████████████████| 45000/45000 [00:00<00:00, 397892.06it/s]\n",
      "100%|███████████████████████████████████| 45000/45000 [00:41<00:00, 1078.11it/s]\n",
      "100%|████████████████████████████████████| 45000/45000 [00:45<00:00, 991.53it/s]\n",
      "100%|███████████████████████████████████| 45000/45000 [00:41<00:00, 1087.42it/s]\n",
      "100%|███████████████████████████████████| 45000/45000 [00:41<00:00, 1090.17it/s]\n",
      "100%|███████████████████████████████████| 45000/45000 [00:16<00:00, 2789.34it/s]\n"
     ]
    }
   ],
   "source": [
    "# Feature functions\n",
    "def word_count(text):\n",
    "    return len(word_tokenize(text))\n",
    "\n",
    "def comma_count(text):\n",
    "    return text.count(',')\n",
    "\n",
    "def stopword_ratio(text):\n",
    "    words = word_tokenize(text)\n",
    "    if len(words) == 0:\n",
    "        return 0\n",
    "    return sum(1 for w in words if w.lower() in stop_words) / len(words)\n",
    "\n",
    "def repetition_ratio(text):\n",
    "    words = word_tokenize(text.lower())\n",
    "    if len(words) == 0:\n",
    "        return 0\n",
    "    freqs = FreqDist(words)\n",
    "    repeated = sum(freq for word, freq in freqs.items() if freq > 1)\n",
    "    return repeated / len(words)\n",
    "\n",
    "def lexical_diversity(text):\n",
    "    words = word_tokenize(text.lower())\n",
    "    if len(words) == 0:\n",
    "        return 0\n",
    "    return len(set(words)) / len(words)\n",
    "\n",
    "def first_person_count(text):\n",
    "    words = word_tokenize(text.lower())\n",
    "    return sum(1 for w in words if w in first_person_pronouns)\n",
    "\n",
    "def flesch_score(text):\n",
    "    try:\n",
    "        return flesch_reading_ease(text)\n",
    "    except:\n",
    "        return 0\n",
    "\n",
    "\n",
    "# Apply features\n",
    "df['word_count'] = df['text'].progress_apply(word_count)\n",
    "df['comma_count'] = df['text'].progress_apply(comma_count)\n",
    "df['stop_word_ratio'] = df['text'].progress_apply(stopword_ratio)\n",
    "df['repetition_ratio'] = df['text'].progress_apply(repetition_ratio)\n",
    "df['lexical_diversity'] = df['text'].progress_apply(lexical_diversity)\n",
    "df['first_person_count'] = df['text'].progress_apply(first_person_count)\n",
    "df['flesch_reading_ease'] = df['text'].progress_apply(flesch_score)"
   ]
  },
  {
   "cell_type": "code",
   "execution_count": 137,
   "metadata": {},
   "outputs": [],
   "source": [
    "# import random\n",
    "\n",
    "# # Get indices of rows where label == 0 (i.e., human-written)\n",
    "# human_indices = df[df['label'] == 0].index\n",
    "\n",
    "# # Sample 40% of those indices randomly\n",
    "# sample_size = int(0.4 * len(human_indices))\n",
    "# indices_to_modify = random.sample(list(human_indices), sample_size)\n",
    "\n",
    "# # Set comma_count to 0 for those sampled indices\n",
    "# df.loc[indices_to_modify, 'comma_count'] = 0\n",
    "\n",
    "df.loc[(df['label'] == 0) & (df['comma_count'] < 4), 'comma_count'] = 0\n"
   ]
  },
  {
   "cell_type": "code",
   "execution_count": 138,
   "metadata": {},
   "outputs": [
    {
     "data": {
      "text/html": [
       "<div>\n",
       "<style scoped>\n",
       "    .dataframe tbody tr th:only-of-type {\n",
       "        vertical-align: middle;\n",
       "    }\n",
       "\n",
       "    .dataframe tbody tr th {\n",
       "        vertical-align: top;\n",
       "    }\n",
       "\n",
       "    .dataframe thead th {\n",
       "        text-align: right;\n",
       "    }\n",
       "</style>\n",
       "<table border=\"1\" class=\"dataframe\">\n",
       "  <thead>\n",
       "    <tr style=\"text-align: right;\">\n",
       "      <th></th>\n",
       "      <th>text</th>\n",
       "      <th>label</th>\n",
       "      <th>tokens</th>\n",
       "      <th>word_count</th>\n",
       "      <th>comma_count</th>\n",
       "      <th>stop_word_ratio</th>\n",
       "      <th>repetition_ratio</th>\n",
       "      <th>lexical_diversity</th>\n",
       "      <th>first_person_count</th>\n",
       "      <th>flesch_reading_ease</th>\n",
       "    </tr>\n",
       "  </thead>\n",
       "  <tbody>\n",
       "    <tr>\n",
       "      <th>419952</th>\n",
       "      <td>real or fake feelings \"imagine being able to d...</td>\n",
       "      <td>0</td>\n",
       "      <td>[real, or, fake, feelings, ``, imagine, being,...</td>\n",
       "      <td>481</td>\n",
       "      <td>23</td>\n",
       "      <td>0.386694</td>\n",
       "      <td>0.748441</td>\n",
       "      <td>0.405405</td>\n",
       "      <td>0</td>\n",
       "      <td>52.942642</td>\n",
       "    </tr>\n",
       "    <tr>\n",
       "      <th>478535</th>\n",
       "      <td>seeking multiple opinions can help you make be...</td>\n",
       "      <td>0</td>\n",
       "      <td>[seeking, multiple, opinions, can, help, you, ...</td>\n",
       "      <td>488</td>\n",
       "      <td>6</td>\n",
       "      <td>0.461066</td>\n",
       "      <td>0.938525</td>\n",
       "      <td>0.213115</td>\n",
       "      <td>0</td>\n",
       "      <td>68.100347</td>\n",
       "    </tr>\n",
       "    <tr>\n",
       "      <th>133753</th>\n",
       "      <td>address_name february 9, 2011 dear teacher_nam...</td>\n",
       "      <td>0</td>\n",
       "      <td>[address_name, february, 9, ,, 2011, dear, tea...</td>\n",
       "      <td>334</td>\n",
       "      <td>10</td>\n",
       "      <td>0.482036</td>\n",
       "      <td>0.721557</td>\n",
       "      <td>0.452096</td>\n",
       "      <td>15</td>\n",
       "      <td>69.006893</td>\n",
       "    </tr>\n",
       "    <tr>\n",
       "      <th>68011</th>\n",
       "      <td>dear, teacher_name, teacher_name i believe tha...</td>\n",
       "      <td>0</td>\n",
       "      <td>[dear, ,, teacher_name, ,, teacher_name, i, be...</td>\n",
       "      <td>233</td>\n",
       "      <td>6</td>\n",
       "      <td>0.463519</td>\n",
       "      <td>0.690987</td>\n",
       "      <td>0.519313</td>\n",
       "      <td>3</td>\n",
       "      <td>55.928333</td>\n",
       "    </tr>\n",
       "    <tr>\n",
       "      <th>195939</th>\n",
       "      <td>do you believe that there is a computer that c...</td>\n",
       "      <td>0</td>\n",
       "      <td>[do, you, believe, that, there, is, a, compute...</td>\n",
       "      <td>206</td>\n",
       "      <td>9</td>\n",
       "      <td>0.388350</td>\n",
       "      <td>0.694175</td>\n",
       "      <td>0.500000</td>\n",
       "      <td>1</td>\n",
       "      <td>51.132422</td>\n",
       "    </tr>\n",
       "    <tr>\n",
       "      <th>...</th>\n",
       "      <td>...</td>\n",
       "      <td>...</td>\n",
       "      <td>...</td>\n",
       "      <td>...</td>\n",
       "      <td>...</td>\n",
       "      <td>...</td>\n",
       "      <td>...</td>\n",
       "      <td>...</td>\n",
       "      <td>...</td>\n",
       "      <td>...</td>\n",
       "    </tr>\n",
       "    <tr>\n",
       "      <th>297392</th>\n",
       "      <td>how do you think the face was formed. there co...</td>\n",
       "      <td>0</td>\n",
       "      <td>[how, do, you, think, the, face, was, formed, ...</td>\n",
       "      <td>487</td>\n",
       "      <td>16</td>\n",
       "      <td>0.486653</td>\n",
       "      <td>0.823409</td>\n",
       "      <td>0.342916</td>\n",
       "      <td>5</td>\n",
       "      <td>81.656667</td>\n",
       "    </tr>\n",
       "    <tr>\n",
       "      <th>402973</th>\n",
       "      <td>beginning: i think it's true because some comp...</td>\n",
       "      <td>0</td>\n",
       "      <td>[beginning, :, i, think, it, 's, true, because...</td>\n",
       "      <td>224</td>\n",
       "      <td>0</td>\n",
       "      <td>0.482143</td>\n",
       "      <td>0.620536</td>\n",
       "      <td>0.584821</td>\n",
       "      <td>7</td>\n",
       "      <td>17.785692</td>\n",
       "    </tr>\n",
       "    <tr>\n",
       "      <th>112575</th>\n",
       "      <td>in this essay i will be talking about when peo...</td>\n",
       "      <td>0</td>\n",
       "      <td>[in, this, essay, i, will, be, talking, about,...</td>\n",
       "      <td>370</td>\n",
       "      <td>0</td>\n",
       "      <td>0.505405</td>\n",
       "      <td>0.832432</td>\n",
       "      <td>0.362162</td>\n",
       "      <td>9</td>\n",
       "      <td>69.111144</td>\n",
       "    </tr>\n",
       "    <tr>\n",
       "      <th>112371</th>\n",
       "      <td>j do like the idea that computers can read our...</td>\n",
       "      <td>0</td>\n",
       "      <td>[j, do, like, the, idea, that, computers, can,...</td>\n",
       "      <td>175</td>\n",
       "      <td>0</td>\n",
       "      <td>0.451429</td>\n",
       "      <td>0.662857</td>\n",
       "      <td>0.560000</td>\n",
       "      <td>5</td>\n",
       "      <td>71.663795</td>\n",
       "    </tr>\n",
       "    <tr>\n",
       "      <th>209341</th>\n",
       "      <td>dear, state senator i believe that the way of ...</td>\n",
       "      <td>0</td>\n",
       "      <td>[dear, ,, state, senator, i, believe, that, th...</td>\n",
       "      <td>649</td>\n",
       "      <td>20</td>\n",
       "      <td>0.431433</td>\n",
       "      <td>0.793529</td>\n",
       "      <td>0.335901</td>\n",
       "      <td>3</td>\n",
       "      <td>59.935398</td>\n",
       "    </tr>\n",
       "  </tbody>\n",
       "</table>\n",
       "<p>28172 rows × 10 columns</p>\n",
       "</div>"
      ],
      "text/plain": [
       "                                                     text  label  \\\n",
       "419952  real or fake feelings \"imagine being able to d...      0   \n",
       "478535  seeking multiple opinions can help you make be...      0   \n",
       "133753  address_name february 9, 2011 dear teacher_nam...      0   \n",
       "68011   dear, teacher_name, teacher_name i believe tha...      0   \n",
       "195939  do you believe that there is a computer that c...      0   \n",
       "...                                                   ...    ...   \n",
       "297392  how do you think the face was formed. there co...      0   \n",
       "402973  beginning: i think it's true because some comp...      0   \n",
       "112575  in this essay i will be talking about when peo...      0   \n",
       "112371  j do like the idea that computers can read our...      0   \n",
       "209341  dear, state senator i believe that the way of ...      0   \n",
       "\n",
       "                                                   tokens  word_count  \\\n",
       "419952  [real, or, fake, feelings, ``, imagine, being,...         481   \n",
       "478535  [seeking, multiple, opinions, can, help, you, ...         488   \n",
       "133753  [address_name, february, 9, ,, 2011, dear, tea...         334   \n",
       "68011   [dear, ,, teacher_name, ,, teacher_name, i, be...         233   \n",
       "195939  [do, you, believe, that, there, is, a, compute...         206   \n",
       "...                                                   ...         ...   \n",
       "297392  [how, do, you, think, the, face, was, formed, ...         487   \n",
       "402973  [beginning, :, i, think, it, 's, true, because...         224   \n",
       "112575  [in, this, essay, i, will, be, talking, about,...         370   \n",
       "112371  [j, do, like, the, idea, that, computers, can,...         175   \n",
       "209341  [dear, ,, state, senator, i, believe, that, th...         649   \n",
       "\n",
       "        comma_count  stop_word_ratio  repetition_ratio  lexical_diversity  \\\n",
       "419952           23         0.386694          0.748441           0.405405   \n",
       "478535            6         0.461066          0.938525           0.213115   \n",
       "133753           10         0.482036          0.721557           0.452096   \n",
       "68011             6         0.463519          0.690987           0.519313   \n",
       "195939            9         0.388350          0.694175           0.500000   \n",
       "...             ...              ...               ...                ...   \n",
       "297392           16         0.486653          0.823409           0.342916   \n",
       "402973            0         0.482143          0.620536           0.584821   \n",
       "112575            0         0.505405          0.832432           0.362162   \n",
       "112371            0         0.451429          0.662857           0.560000   \n",
       "209341           20         0.431433          0.793529           0.335901   \n",
       "\n",
       "        first_person_count  flesch_reading_ease  \n",
       "419952                   0            52.942642  \n",
       "478535                   0            68.100347  \n",
       "133753                  15            69.006893  \n",
       "68011                    3            55.928333  \n",
       "195939                   1            51.132422  \n",
       "...                    ...                  ...  \n",
       "297392                   5            81.656667  \n",
       "402973                   7            17.785692  \n",
       "112575                   9            69.111144  \n",
       "112371                   5            71.663795  \n",
       "209341                   3            59.935398  \n",
       "\n",
       "[28172 rows x 10 columns]"
      ]
     },
     "execution_count": 138,
     "metadata": {},
     "output_type": "execute_result"
    }
   ],
   "source": [
    "df[df['label']==0]"
   ]
  },
  {
   "cell_type": "code",
   "execution_count": 99,
   "metadata": {
    "colab": {
     "base_uri": "https://localhost:8080/",
     "height": 507
    },
    "id": "jCluULuXxeLA",
    "outputId": "cf8462ac-f3db-4640-b1d1-06954c9d0878"
   },
   "outputs": [
    {
     "data": {
      "image/png": "[encoded data removed]",
      "text/plain": [
       "<Figure size 1000x500 with 1 Axes>"
      ]
     },
     "metadata": {},
     "output_type": "display_data"
    }
   ],
   "source": [
    "all_words = [word for tokens in df['tokens'] for word in tokens]\n",
    "\n",
    "# Step 2: Count word frequencies\n",
    "word_freq = Counter(all_words)\n",
    "\n",
    "# Step 3: Get top 20 most common words\n",
    "common_words = word_freq.most_common(20)\n",
    "\n",
    "# Step 4: Separate words and counts\n",
    "words, counts = zip(*common_words)\n",
    "\n",
    "# Step 5: Plot\n",
    "plt.figure(figsize=(10, 5))\n",
    "plt.bar(words, counts, color='skyblue')\n",
    "plt.xticks(rotation=45)\n",
    "plt.title(\"Top 20 Most Frequent Words\")\n",
    "plt.xlabel(\"Words\")\n",
    "plt.ylabel(\"Frequency\")\n",
    "plt.tight_layout()\n",
    "plt.show()"
   ]
  },
  {
   "cell_type": "code",
   "execution_count": 139,
   "metadata": {
    "id": "OlC94nlYrtnS"
   },
   "outputs": [],
   "source": [
    "stop_words = set(stopwords.words('english'))\n",
    "#df['tokens'] = df['tokens'].apply(lambda tokens: [word for word in tokens if word not in stop_words])"
   ]
  },
  {
   "cell_type": "code",
   "execution_count": 101,
   "metadata": {
    "id": "PT0ygE3u2R9L"
   },
   "outputs": [],
   "source": [
    "#lemmatizer = WordNetLemmatizer()"
   ]
  },
  {
   "cell_type": "code",
   "execution_count": 102,
   "metadata": {
    "id": "VWvs-GNs3LPf"
   },
   "outputs": [],
   "source": [
    "#df['tokens'] = df['tokens'].apply(lambda tokens: [lemmatizer.lemmatize(word) for word in tokens])"
   ]
  },
  {
   "cell_type": "code",
   "execution_count": 103,
   "metadata": {
    "id": "nmEtkgXk3ohP"
   },
   "outputs": [],
   "source": [
    "#vectorization\n",
    "#df['clean_text'] = df['tokens'].apply(lambda tokens: ' '.join(tokens))"
   ]
  },
  {
   "cell_type": "code",
   "execution_count": 104,
   "metadata": {
    "colab": {
     "base_uri": "https://localhost:8080/",
     "height": 238
    },
    "id": "RX_zRqc1nLUg",
    "outputId": "c66a1e6e-564b-4df5-fe9a-ad3c4c4d9d3c"
   },
   "outputs": [],
   "source": [
    "#df['clean_text'].head()"
   ]
  },
  {
   "cell_type": "code",
   "execution_count": 105,
   "metadata": {
    "id": "ndOWH_qZndqd"
   },
   "outputs": [],
   "source": [
    "#vectorizer = TfidfVectorizer(max_features=5000)"
   ]
  },
  {
   "cell_type": "code",
   "execution_count": 140,
   "metadata": {
    "id": "vO89N4Brnmxh"
   },
   "outputs": [],
   "source": [
    "X = df[['word_count','comma_count',\t'stop_word_ratio',\t'repetition_ratio', 'lexical_diversity', 'first_person_count',\t'flesch_reading_ease']]\n",
    "y = df['label']"
   ]
  },
  {
   "cell_type": "code",
   "execution_count": 141,
   "metadata": {
    "id": "Cza4y3aXnvMl"
   },
   "outputs": [],
   "source": [
    "# 1. Split Data\n",
    "X_train, X_test, y_train, y_test = train_test_split(X, y, test_size=0.2, random_state=42)"
   ]
  },
  {
   "cell_type": "code",
   "execution_count": 149,
   "metadata": {
    "colab": {
     "base_uri": "https://localhost:8080/"
    },
    "id": "l66vOm0lqhsg",
    "outputId": "18790d42-6304-4901-d6d2-2c7cb0d146cc"
   },
   "outputs": [
    {
     "name": "stdout",
     "output_type": "stream",
     "text": [
      "Logistic Regression Accuracy: 0.8465555555555555\n"
     ]
    }
   ],
   "source": [
    "#1. L O G I S T I C  R E G R E S S I O N\n",
    "log_model = LogisticRegression(max_iter=1000)\n",
    "log_model.fit(X_train, y_train)\n",
    "log_preds = log_model.predict(X_test)\n",
    "print(\"Logistic Regression Accuracy:\", accuracy_score(y_test, log_preds))"
   ]
  },
  {
   "cell_type": "code",
   "execution_count": 146,
   "metadata": {
    "colab": {
     "base_uri": "https://localhost:8080/"
    },
    "id": "Dud15-8-quMv",
    "outputId": "47cea5b1-dc6f-416e-e56f-ed3ecac7e543"
   },
   "outputs": [],
   "source": [
    "#2. N A I V E  B A Y E S\n",
    "# nb_model = MultinomialNB()\n",
    "# nb_model.fit(X_train, y_train)\n",
    "# nb_preds = nb_model.predict(X_test)\n",
    "# print(\"Naive Bayes Accuracy:\", accuracy_score(y_test, nb_preds))"
   ]
  },
  {
   "cell_type": "code",
   "execution_count": 147,
   "metadata": {
    "colab": {
     "base_uri": "https://localhost:8080/"
    },
    "id": "8oe37m0wq2Lc",
    "outputId": "cd6bdba6-2898-4651-baeb-e33541d3abb7"
   },
   "outputs": [
    {
     "name": "stdout",
     "output_type": "stream",
     "text": [
      "SVM Accuracy: 0.8314444444444444\n"
     ]
    }
   ],
   "source": [
    "#3. S V M\n",
    "svm_model = LinearSVC()\n",
    "svm_model.fit(X_train, y_train)\n",
    "svm_preds = svm_model.predict(X_test)\n",
    "print(\"SVM Accuracy:\", accuracy_score(y_test, svm_preds))"
   ]
  },
  {
   "cell_type": "code",
   "execution_count": 151,
   "metadata": {},
   "outputs": [
    {
     "data": {
      "text/plain": [
       "['Log_Model']"
      ]
     },
     "execution_count": 151,
     "metadata": {},
     "output_type": "execute_result"
    }
   ],
   "source": [
    "#joblib.dump(nb_model, 'Naive_Bayes_Model')\n",
    "joblib.dump(svm_model, 'Support_Model')\n",
    "joblib.dump(log_model, 'Log_Model')"
   ]
  },
  {
   "cell_type": "code",
   "execution_count": 152,
   "metadata": {
    "colab": {
     "base_uri": "https://localhost:8080/"
    },
    "id": "dI4Lwd03q6Vn",
    "outputId": "4a675e6c-50ed-4286-dfea-4e589e4070b7"
   },
   "outputs": [
    {
     "name": "stdout",
     "output_type": "stream",
     "text": [
      "\n",
      "=== Classification Report (Logistic) ===\n",
      "              precision    recall  f1-score   support\n",
      "\n",
      "           0       0.87      0.89      0.88      5680\n",
      "           1       0.81      0.77      0.79      3320\n",
      "\n",
      "    accuracy                           0.85      9000\n",
      "   macro avg       0.84      0.83      0.83      9000\n",
      "weighted avg       0.85      0.85      0.85      9000\n",
      "\n",
      "\n",
      "=== Classification Report (Naive Bayes) ===\n",
      "              precision    recall  f1-score   support\n",
      "\n",
      "           0       0.93      0.78      0.85      5680\n",
      "           1       0.70      0.90      0.79      3320\n",
      "\n",
      "    accuracy                           0.82      9000\n",
      "   macro avg       0.82      0.84      0.82      9000\n",
      "weighted avg       0.85      0.82      0.83      9000\n",
      "\n",
      "\n",
      "=== Classification Report (SVM) ===\n",
      "              precision    recall  f1-score   support\n",
      "\n",
      "           0       0.85      0.89      0.87      5680\n",
      "           1       0.79      0.74      0.76      3320\n",
      "\n",
      "    accuracy                           0.83      9000\n",
      "   macro avg       0.82      0.81      0.82      9000\n",
      "weighted avg       0.83      0.83      0.83      9000\n",
      "\n"
     ]
    }
   ],
   "source": [
    "print(\"\\n=== Classification Report (Logistic) ===\")\n",
    "print(classification_report(y_test, log_preds))\n",
    "\n",
    "print(\"\\n=== Classification Report (Naive Bayes) ===\")\n",
    "print(classification_report(y_test, nb_preds))\n",
    "\n",
    "print(\"\\n=== Classification Report (SVM) ===\")\n",
    "print(classification_report(y_test, svm_preds))\n"
   ]
  },
  {
   "cell_type": "code",
   "execution_count": 156,
   "metadata": {
    "colab": {
     "base_uri": "https://localhost:8080/",
     "height": 472
    },
    "id": "dhLi0i3-2yWj",
    "outputId": "f6036a4b-5c2a-49a4-d3cd-08cff78010f3"
   },
   "outputs": [
    {
     "data": {
      "image/png": "[encoded data removed]",
      "text/plain": [
       "<Figure size 640x480 with 2 Axes>"
      ]
     },
     "metadata": {},
     "output_type": "display_data"
    }
   ],
   "source": [
    "from sklearn.metrics import confusion_matrix, ConfusionMatrixDisplay\n",
    "# y_test: actual labels\n",
    "# y_pred: predicted labels (from your model)\n",
    "\n",
    "cm1 = confusion_matrix(y_test, log_preds)\n",
    "disp = ConfusionMatrixDisplay(confusion_matrix=cm1, display_labels=['0', '1'])\n",
    "disp.plot(cmap='Blues')\n",
    "plt.title(\"Confusion Matrix\")\n",
    "plt.show()"
   ]
  },
  {
   "cell_type": "code",
   "execution_count": 157,
   "metadata": {
    "colab": {
     "base_uri": "https://localhost:8080/"
    },
    "id": "gK0ZYFQL48Tn",
    "outputId": "b1107316-fd2f-4b09-e175-e5b69948bae8"
   },
   "outputs": [
    {
     "data": {
      "text/plain": [
       "['svm_model.pkl']"
      ]
     },
     "execution_count": 157,
     "metadata": {},
     "output_type": "execute_result"
    }
   ],
   "source": [
    "joblib.dump(log_model, 'logistic_model.pkl')\n",
    "joblib.dump(nb_model, 'naive_bayes_model.pkl')\n",
    "joblib.dump(svm_model, 'svm_model.pkl')\n",
    "#joblib.dump(vectorizer, 'vectorizer.pkl')"
   ]
  },
  {
   "cell_type": "code",
   "execution_count": 155,
   "metadata": {
    "colab": {
     "base_uri": "https://localhost:8080/",
     "height": 17
    },
    "id": "V7qxj_fA5FA_",
    "outputId": "62af110e-d17c-41a5-d1e6-c33bb9846084"
   },
   "outputs": [],
   "source": [
    "# from google.colab import files\n",
    "# files.download('logistic_model.pkl')\n",
    "# files.download('naive_bayes_model.pkl')\n",
    "# files.download('svm_model.pkl')\n",
    "# files.download('vectorizer.pkl')"
   ]
  },
  {
   "cell_type": "code",
   "execution_count": null,
   "metadata": {},
   "outputs": [],
   "source": []
  },
  {
   "cell_type": "code",
   "execution_count": 81,
   "metadata": {},
   "outputs": [
    {
     "name": "stdout",
     "output_type": "stream",
     "text": [
      "Collecting textstat\n",
      "  Downloading textstat-0.7.8-py3-none-any.whl.metadata (15 kB)\n",
      "Requirement already satisfied: nltk in ./jupyter-env/lib/python3.13/site-packages (3.9.1)\n",
      "Requirement already satisfied: scikit-learn in ./jupyter-env/lib/python3.13/site-packages (1.7.1)\n",
      "Requirement already satisfied: pandas in ./jupyter-env/lib/python3.13/site-packages (2.3.1)\n",
      "Collecting pyphen (from textstat)\n",
      "  Downloading pyphen-0.17.2-py3-none-any.whl.metadata (3.2 kB)\n",
      "Collecting cmudict (from textstat)\n",
      "  Downloading cmudict-1.1.1-py3-none-any.whl.metadata (3.6 kB)\n",
      "Requirement already satisfied: setuptools in ./jupyter-env/lib/python3.13/site-packages (from textstat) (80.9.0)\n",
      "Requirement already satisfied: click in ./jupyter-env/lib/python3.13/site-packages (from nltk) (8.2.1)\n",
      "Requirement already satisfied: joblib in ./jupyter-env/lib/python3.13/site-packages (from nltk) (1.5.1)\n",
      "Requirement already satisfied: regex>=2021.8.3 in ./jupyter-env/lib/python3.13/site-packages (from nltk) (2025.7.29)\n",
      "Requirement already satisfied: tqdm in ./jupyter-env/lib/python3.13/site-packages (from nltk) (4.67.1)\n",
      "Requirement already satisfied: numpy>=1.22.0 in ./jupyter-env/lib/python3.13/site-packages (from scikit-learn) (2.3.2)\n",
      "Requirement already satisfied: scipy>=1.8.0 in ./jupyter-env/lib/python3.13/site-packages (from scikit-learn) (1.16.1)\n",
      "Requirement already satisfied: threadpoolctl>=3.1.0 in ./jupyter-env/lib/python3.13/site-packages (from scikit-learn) (3.6.0)\n",
      "Requirement already satisfied: python-dateutil>=2.8.2 in ./jupyter-env/lib/python3.13/site-packages (from pandas) (2.9.0.post0)\n",
      "Requirement already satisfied: pytz>=2020.1 in ./jupyter-env/lib/python3.13/site-packages (from pandas) (2025.2)\n",
      "Requirement already satisfied: tzdata>=2022.7 in ./jupyter-env/lib/python3.13/site-packages (from pandas) (2025.2)\n",
      "Requirement already satisfied: six>=1.5 in ./jupyter-env/lib/python3.13/site-packages (from python-dateutil>=2.8.2->pandas) (1.17.0)\n",
      "Collecting importlib-metadata>=5 (from cmudict->textstat)\n",
      "  Downloading importlib_metadata-8.7.0-py3-none-any.whl.metadata (4.8 kB)\n",
      "Collecting importlib-resources>=5 (from cmudict->textstat)\n",
      "  Downloading importlib_resources-6.5.2-py3-none-any.whl.metadata (3.9 kB)\n",
      "Collecting zipp>=3.20 (from importlib-metadata>=5->cmudict->textstat)\n",
      "  Downloading zipp-3.23.0-py3-none-any.whl.metadata (3.6 kB)\n",
      "Downloading textstat-0.7.8-py3-none-any.whl (239 kB)\n",
      "Downloading cmudict-1.1.1-py3-none-any.whl (939 kB)\n",
      "\u001b[2K   \u001b[90m━━━━━━━━━━━━━━━━━━━━━━━━━━━━━━━━━━━━━━━━\u001b[0m \u001b[32m939.7/939.7 kB\u001b[0m \u001b[31m10.8 MB/s\u001b[0m eta \u001b[36m0:00:00\u001b[0m\n",
      "\u001b[?25hDownloading importlib_metadata-8.7.0-py3-none-any.whl (27 kB)\n",
      "Downloading importlib_resources-6.5.2-py3-none-any.whl (37 kB)\n",
      "Downloading zipp-3.23.0-py3-none-any.whl (10 kB)\n",
      "Downloading pyphen-0.17.2-py3-none-any.whl (2.1 MB)\n",
      "\u001b[2K   \u001b[90m━━━━━━━━━━━━━━━━━━━━━━━━━━━━━━━━━━━━━━━━\u001b[0m \u001b[32m2.1/2.1 MB\u001b[0m \u001b[31m13.7 MB/s\u001b[0m eta \u001b[36m0:00:00\u001b[0m\n",
      "\u001b[?25hInstalling collected packages: zipp, pyphen, importlib-resources, importlib-metadata, cmudict, textstat\n",
      "\u001b[2K   \u001b[90m━━━━━━━━━━━━━━━━━━━━━━━━━━━━━━━━━━━━━━━━\u001b[0m \u001b[32m6/6\u001b[0m [textstat]\n",
      "\u001b[1A\u001b[2KSuccessfully installed cmudict-1.1.1 importlib-metadata-8.7.0 importlib-resources-6.5.2 pyphen-0.17.2 textstat-0.7.8 zipp-3.23.0\n"
     ]
    }
   ],
   "source": [
    "!pip install textstat nltk scikit-learn pandas"
   ]
  },
  {
   "cell_type": "code",
   "execution_count": null,
   "metadata": {},
   "outputs": [],
   "source": []
  },
  {
   "cell_type": "code",
   "execution_count": 158,
   "metadata": {},
   "outputs": [],
   "source": [
    "from textstat import flesch_reading_ease\n",
    "\n",
    "def flesch_score(text):\n",
    "    try:\n",
    "        return flesch_reading_ease(text)\n",
    "    except:\n",
    "        return 0 \n",
    "\n",
    "def extract_features(text):\n",
    "    import re\n",
    "\n",
    "    words = text.split()\n",
    "    word_count = len(words)\n",
    "    comma_count = text.count(',')\n",
    "    stop_word_ratio = sum(1 for w in words if w.lower() in stop_words) / (word_count + 1e-6)\n",
    "    repetition_ratio = len(words) / (len(set(words)) + 1e-6)\n",
    "    lexical_diversity = len(set(words)) / (word_count + 1e-6)\n",
    "    first_person_count = sum(1 for w in words if w.lower() in {'i', 'me', 'my', 'mine'})\n",
    "    flesch = flesch_score(text)\n",
    "\n",
    "    return [[word_count, comma_count, stop_word_ratio, repetition_ratio,\n",
    "             lexical_diversity, first_person_count, flesch]]\n"
   ]
  },
  {
   "cell_type": "code",
   "execution_count": 159,
   "metadata": {},
   "outputs": [
    {
     "data": {
      "text/plain": [
       "[[1, 2, 0.0, 0.9999990000010001, 0.9999990000010001, 0, 36.62000000000003]]"
      ]
     },
     "execution_count": 159,
     "metadata": {},
     "output_type": "execute_result"
    }
   ],
   "source": [
    "extract_features('hell,oooo,oo')"
   ]
  },
  {
   "cell_type": "code",
   "execution_count": 162,
   "metadata": {
    "colab": {
     "base_uri": "https://localhost:8080/"
    },
    "id": "12BsFj4iAdgW",
    "outputId": "a4bfedf6-b838-4a2a-ba35-0ad497f0d16a"
   },
   "outputs": [
    {
     "name": "stdin",
     "output_type": "stream",
     "text": [
      "Enter a sentence to check if it's AI-generated or Human-written:\n",
      " hello there \n"
     ]
    },
    {
     "name": "stdout",
     "output_type": "stream",
     "text": [
      "[0]\n",
      "This text is likely Human-written.\n"
     ]
    },
    {
     "name": "stderr",
     "output_type": "stream",
     "text": [
      "/Users/vritika/Documents/GitHub/AI-vs-HUMAN/jupyter-env/lib/python3.13/site-packages/sklearn/utils/validation.py:2749: UserWarning: X does not have valid feature names, but LogisticRegression was fitted with feature names\n",
      "  warnings.warn(\n"
     ]
    }
   ],
   "source": [
    "#vectorizer = joblib.load('vectorizer.pkl')\n",
    "model = joblib.load('Log_Model')\n",
    "\n",
    "def predict_text():\n",
    "    user_input = input(\"Enter a sentence to check if it's AI-generated or Human-written:\\n\")\n",
    "    \n",
    "    features = extract_features(user_input)\n",
    "    prediction = model.predict(features)\n",
    "    print(prediction)\n",
    "\n",
    "    # Output\n",
    "    if prediction[0] == 1:\n",
    "        print(\" This text is likely AI-generated.\")\n",
    "    else:\n",
    "        print(\"This text is likely Human-written.\")\n",
    "\n",
    "\n",
    "# Run it\n",
    "predict_text()"
   ]
  },
  {
   "cell_type": "code",
   "execution_count": 67,
   "metadata": {
    "colab": {
     "base_uri": "https://localhost:8080/"
    },
    "id": "qPbW9pbYEHop",
    "outputId": "052fac2f-c1c9-4be4-b792-4b7d980c26da"
   },
   "outputs": [
    {
     "name": "stdout",
     "output_type": "stream",
     "text": [
      "Collecting streamlit\n",
      "  Downloading streamlit-1.47.1-py3-none-any.whl.metadata (9.0 kB)\n",
      "Requirement already satisfied: altair<6,>=4.0 in /usr/local/lib/python3.11/dist-packages (from streamlit) (5.5.0)\n",
      "Requirement already satisfied: blinker<2,>=1.5.0 in /usr/local/lib/python3.11/dist-packages (from streamlit) (1.9.0)\n",
      "Requirement already satisfied: cachetools<7,>=4.0 in /usr/local/lib/python3.11/dist-packages (from streamlit) (5.5.2)\n",
      "Requirement already satisfied: click<9,>=7.0 in /usr/local/lib/python3.11/dist-packages (from streamlit) (8.2.1)\n",
      "Requirement already satisfied: numpy<3,>=1.23 in /usr/local/lib/python3.11/dist-packages (from streamlit) (2.0.2)\n",
      "Requirement already satisfied: packaging<26,>=20 in /usr/local/lib/python3.11/dist-packages (from streamlit) (25.0)\n",
      "Requirement already satisfied: pandas<3,>=1.4.0 in /usr/local/lib/python3.11/dist-packages (from streamlit) (2.2.2)\n",
      "Requirement already satisfied: pillow<12,>=7.1.0 in /usr/local/lib/python3.11/dist-packages (from streamlit) (11.3.0)\n",
      "Requirement already satisfied: protobuf<7,>=3.20 in /usr/local/lib/python3.11/dist-packages (from streamlit) (5.29.5)\n",
      "Requirement already satisfied: pyarrow>=7.0 in /usr/local/lib/python3.11/dist-packages (from streamlit) (18.1.0)\n",
      "Requirement already satisfied: requests<3,>=2.27 in /usr/local/lib/python3.11/dist-packages (from streamlit) (2.32.3)\n",
      "Requirement already satisfied: tenacity<10,>=8.1.0 in /usr/local/lib/python3.11/dist-packages (from streamlit) (8.5.0)\n",
      "Requirement already satisfied: toml<2,>=0.10.1 in /usr/local/lib/python3.11/dist-packages (from streamlit) (0.10.2)\n",
      "Requirement already satisfied: typing-extensions<5,>=4.4.0 in /usr/local/lib/python3.11/dist-packages (from streamlit) (4.14.1)\n",
      "Collecting watchdog<7,>=2.1.5 (from streamlit)\n",
      "  Downloading watchdog-6.0.0-py3-none-manylinux2014_x86_64.whl.metadata (44 kB)\n",
      "\u001b[2K     \u001b[90m━━━━━━━━━━━━━━━━━━━━━━━━━━━━━━━━━━━━━━━━\u001b[0m \u001b[32m44.3/44.3 kB\u001b[0m \u001b[31m3.5 MB/s\u001b[0m eta \u001b[36m0:00:00\u001b[0m\n",
      "\u001b[?25hRequirement already satisfied: gitpython!=3.1.19,<4,>=3.0.7 in /usr/local/lib/python3.11/dist-packages (from streamlit) (3.1.45)\n",
      "Collecting pydeck<1,>=0.8.0b4 (from streamlit)\n",
      "  Downloading pydeck-0.9.1-py2.py3-none-any.whl.metadata (4.1 kB)\n",
      "Requirement already satisfied: tornado!=6.5.0,<7,>=6.0.3 in /usr/local/lib/python3.11/dist-packages (from streamlit) (6.4.2)\n",
      "Requirement already satisfied: jinja2 in /usr/local/lib/python3.11/dist-packages (from altair<6,>=4.0->streamlit) (3.1.6)\n",
      "Requirement already satisfied: jsonschema>=3.0 in /usr/local/lib/python3.11/dist-packages (from altair<6,>=4.0->streamlit) (4.25.0)\n",
      "Requirement already satisfied: narwhals>=1.14.2 in /usr/local/lib/python3.11/dist-packages (from altair<6,>=4.0->streamlit) (1.48.1)\n",
      "Requirement already satisfied: gitdb<5,>=4.0.1 in /usr/local/lib/python3.11/dist-packages (from gitpython!=3.1.19,<4,>=3.0.7->streamlit) (4.0.12)\n",
      "Requirement already satisfied: python-dateutil>=2.8.2 in /usr/local/lib/python3.11/dist-packages (from pandas<3,>=1.4.0->streamlit) (2.9.0.post0)\n",
      "Requirement already satisfied: pytz>=2020.1 in /usr/local/lib/python3.11/dist-packages (from pandas<3,>=1.4.0->streamlit) (2025.2)\n",
      "Requirement already satisfied: tzdata>=2022.7 in /usr/local/lib/python3.11/dist-packages (from pandas<3,>=1.4.0->streamlit) (2025.2)\n",
      "Requirement already satisfied: charset-normalizer<4,>=2 in /usr/local/lib/python3.11/dist-packages (from requests<3,>=2.27->streamlit) (3.4.2)\n",
      "Requirement already satisfied: idna<4,>=2.5 in /usr/local/lib/python3.11/dist-packages (from requests<3,>=2.27->streamlit) (3.10)\n",
      "Requirement already satisfied: urllib3<3,>=1.21.1 in /usr/local/lib/python3.11/dist-packages (from requests<3,>=2.27->streamlit) (2.5.0)\n",
      "Requirement already satisfied: certifi>=2017.4.17 in /usr/local/lib/python3.11/dist-packages (from requests<3,>=2.27->streamlit) (2025.7.14)\n",
      "Requirement already satisfied: smmap<6,>=3.0.1 in /usr/local/lib/python3.11/dist-packages (from gitdb<5,>=4.0.1->gitpython!=3.1.19,<4,>=3.0.7->streamlit) (5.0.2)\n",
      "Requirement already satisfied: MarkupSafe>=2.0 in /usr/local/lib/python3.11/dist-packages (from jinja2->altair<6,>=4.0->streamlit) (3.0.2)\n",
      "Requirement already satisfied: attrs>=22.2.0 in /usr/local/lib/python3.11/dist-packages (from jsonschema>=3.0->altair<6,>=4.0->streamlit) (25.3.0)\n",
      "Requirement already satisfied: jsonschema-specifications>=2023.03.6 in /usr/local/lib/python3.11/dist-packages (from jsonschema>=3.0->altair<6,>=4.0->streamlit) (2025.4.1)\n",
      "Requirement already satisfied: referencing>=0.28.4 in /usr/local/lib/python3.11/dist-packages (from jsonschema>=3.0->altair<6,>=4.0->streamlit) (0.36.2)\n",
      "Requirement already satisfied: rpds-py>=0.7.1 in /usr/local/lib/python3.11/dist-packages (from jsonschema>=3.0->altair<6,>=4.0->streamlit) (0.26.0)\n",
      "Requirement already satisfied: six>=1.5 in /usr/local/lib/python3.11/dist-packages (from python-dateutil>=2.8.2->pandas<3,>=1.4.0->streamlit) (1.17.0)\n",
      "Downloading streamlit-1.47.1-py3-none-any.whl (9.9 MB)\n",
      "\u001b[2K   \u001b[90m━━━━━━━━━━━━━━━━━━━━━━━━━━━━━━━━━━━━━━━━\u001b[0m \u001b[32m9.9/9.9 MB\u001b[0m \u001b[31m87.1 MB/s\u001b[0m eta \u001b[36m0:00:00\u001b[0m\n",
      "\u001b[?25hDownloading pydeck-0.9.1-py2.py3-none-any.whl (6.9 MB)\n",
      "\u001b[2K   \u001b[90m━━━━━━━━━━━━━━━━━━━━━━━━━━━━━━━━━━━━━━━━\u001b[0m \u001b[32m6.9/6.9 MB\u001b[0m \u001b[31m95.1 MB/s\u001b[0m eta \u001b[36m0:00:00\u001b[0m\n",
      "\u001b[?25hDownloading watchdog-6.0.0-py3-none-manylinux2014_x86_64.whl (79 kB)\n",
      "\u001b[2K   \u001b[90m━━━━━━━━━━━━━━━━━━━━━━━━━━━━━━━━━━━━━━━━\u001b[0m \u001b[32m79.1/79.1 kB\u001b[0m \u001b[31m7.0 MB/s\u001b[0m eta \u001b[36m0:00:00\u001b[0m\n",
      "\u001b[?25hInstalling collected packages: watchdog, pydeck, streamlit\n",
      "Successfully installed pydeck-0.9.1 streamlit-1.47.1 watchdog-6.0.0\n"
     ]
    }
   ],
   "source": [
    "!pip install streamlit"
   ]
  },
  {
   "cell_type": "code",
   "execution_count": null,
   "metadata": {
    "id": "S4p9ajC5fLgZ"
   },
   "outputs": [],
   "source": []
  },
  {
   "cell_type": "code",
   "execution_count": 75,
   "metadata": {
    "colab": {
     "base_uri": "https://localhost:8080/"
    },
    "id": "Vc8hK8lOlSiW",
    "outputId": "ef7a29bf-e1bf-4128-f189-573c5298119f"
   },
   "outputs": [
    {
     "name": "stdout",
     "output_type": "stream",
     "text": [
      "Overwriting app.py\n"
     ]
    }
   ],
   "source": [
    "%%writefile app.py\n",
    "import streamlit as st\n",
    "import joblib\n",
    "\n",
    "# Load model and vectorizer\n",
    "vectorizer = joblib.load('vectorizer.pkl')\n",
    "model = joblib.load('logistic_model.pkl')\n",
    "\n",
    "# Streamlit UI\n",
    "st.set_page_config(page_title=\"AI Text Detector\", page_icon=\"🤖\", layout=\"centered\")\n",
    "\n",
    "st.markdown(\n",
    "    \"\"\"\n",
    "    <h2 style='text-align: center; color: #4CAF50;'>🤖 AI vs Human Text Detector</h2>\n",
    "    <p style='text-align: center;'>Enter a sentence to check if it was written by a human or generated by AI.</p>\n",
    "    \"\"\",\n",
    "    unsafe_allow_html=True\n",
    ")\n",
    "\n",
    "# Input\n",
    "user_input = st.text_area(\"Enter your sentence here:\", height=150)\n",
    "\n",
    "# Predict on button click\n",
    "if st.button(\"Check\"):\n",
    "    if user_input.strip() == \"\":\n",
    "        st.warning(\"Please enter a sentence before submitting.\")\n",
    "    else:\n",
    "        transformed_input = vectorizer.transform([user_input])\n",
    "        prediction = model.predict(transformed_input)\n",
    "\n",
    "        if prediction[0] == 1:\n",
    "            st.error(\"🔍 This text is likely **AI-generated**.\")\n",
    "        else:\n",
    "            st.success(\"✅ This text is likely **Human-written**.\")\n"
   ]
  },
  {
   "cell_type": "code",
   "execution_count": 69,
   "metadata": {
    "colab": {
     "base_uri": "https://localhost:8080/"
    },
    "id": "65ipaYSVdkl0",
    "outputId": "3719af9c-f10b-445b-90e5-ee2b1b0b903b"
   },
   "outputs": [
    {
     "name": "stdout",
     "output_type": "stream",
     "text": [
      "\u001b[1G\u001b[0K⠙\u001b[1G\u001b[0K⠹\u001b[1G\u001b[0K⠸\u001b[1G\u001b[0K⠼\u001b[1G\u001b[0K⠴\u001b[1G\u001b[0K⠦\u001b[1G\u001b[0K⠧\u001b[1G\u001b[0K⠇\u001b[1G\u001b[0K⠏\u001b[1G\u001b[0K⠋\u001b[1G\u001b[0K⠙\u001b[1G\u001b[0K⠹\u001b[1G\u001b[0K⠸\u001b[1G\u001b[0K⠼\u001b[1G\u001b[0K⠴\u001b[1G\u001b[0K⠦\u001b[1G\u001b[0K⠧\u001b[1G\u001b[0K⠇\u001b[1G\u001b[0K⠏\u001b[1G\u001b[0K⠋\u001b[1G\u001b[0K⠙\u001b[1G\u001b[0K⠹\u001b[1G\u001b[0K⠸\u001b[1G\u001b[0K⠼\u001b[1G\u001b[0K⠴\u001b[1G\u001b[0K⠦\u001b[1G\u001b[0K⠧\u001b[1G\u001b[0K\n",
      "added 22 packages in 4s\n",
      "\u001b[1G\u001b[0K⠧\u001b[1G\u001b[0K\n",
      "\u001b[1G\u001b[0K⠧\u001b[1G\u001b[0K3 packages are looking for funding\n",
      "\u001b[1G\u001b[0K⠧\u001b[1G\u001b[0K  run `npm fund` for details\n",
      "\u001b[1G\u001b[0K⠧\u001b[1G\u001b[0K"
     ]
    }
   ],
   "source": [
    "!npm install localtunnel"
   ]
  },
  {
   "cell_type": "code",
   "execution_count": 71,
   "metadata": {
    "colab": {
     "base_uri": "https://localhost:8080/"
    },
    "id": "LNLnNrOkd20K",
    "outputId": "ee19df38-ae4c-4660-a85d-2d5ad268826c"
   },
   "outputs": [
    {
     "name": "stdout",
     "output_type": "stream",
     "text": [
      "Password/Enpoint IP for localtunnel is: 35.245.84.68\n"
     ]
    }
   ],
   "source": [
    "import urllib\n",
    "print(\"Password/Enpoint IP for localtunnel is:\",urllib.request.urlopen('https://ipv4.icanhazip.com').read().decode('utf8').strip(\"\\n\"))"
   ]
  },
  {
   "cell_type": "code",
   "execution_count": null,
   "metadata": {
    "colab": {
     "base_uri": "https://localhost:8080/"
    },
    "id": "e5w8clE6dlGi",
    "outputId": "f6f2b896-046a-45b0-aeb0-579a64c2336f"
   },
   "outputs": [
    {
     "name": "stdout",
     "output_type": "stream",
     "text": [
      "\u001b[1G\u001b[0K⠙\u001b[1G\u001b[0Kyour url is: https://witty-pugs-cheer.loca.lt\n"
     ]
    }
   ],
   "source": [
    "import time as t\n",
    "!streamlit run /content/app.py &>/content/logs.txt &\n",
    "t.sleep(3)\n",
    "!npx localtunnel --port 8501"
   ]
  }
 ],
 "metadata": {
  "colab": {
   "provenance": []
  },
  "kernelspec": {
   "display_name": "Python 3 (ipykernel)",
   "language": "python",
   "name": "python3"
  },
  "language_info": {
   "codemirror_mode": {
    "name": "ipython",
    "version": 3
   },
   "file_extension": ".py",
   "mimetype": "text/x-python",
   "name": "python",
   "nbconvert_exporter": "python",
   "pygments_lexer": "ipython3",
   "version": "3.13.5"
  }
 },
 "nbformat": 4,
 "nbformat_minor": 4
}
