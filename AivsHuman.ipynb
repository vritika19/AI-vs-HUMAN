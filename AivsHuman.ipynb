{
 "cells": [
  {
   "cell_type": "code",
   "execution_count": 2,
   "metadata": {},
   "outputs": [
    {
     "name": "stdout",
     "output_type": "stream",
     "text": [
      "Requirement already satisfied: tqdm in ./jupyter-env/lib/python3.13/site-packages (4.67.1)\n"
     ]
    }
   ],
   "source": [
    "!pip install tqdm \n",
    "import tqdm\n",
    "from tqdm import tqdm\n",
    "tqdm.pandas()"
   ]
  },
  {
   "cell_type": "code",
   "execution_count": 3,
   "metadata": {
    "colab": {
     "base_uri": "https://localhost:8080/"
    },
    "id": "BaNYrikFMAXb",
    "outputId": "1f06d7f1-1650-448c-8300-e20279378733"
   },
   "outputs": [
    {
     "name": "stdout",
     "output_type": "stream",
     "text": [
      "Requirement already satisfied: joblib in ./jupyter-env/lib/python3.13/site-packages (1.5.1)\n"
     ]
    },
    {
     "name": "stderr",
     "output_type": "stream",
     "text": [
      "[nltk_data] Downloading package stopwords to\n",
      "[nltk_data]     /Users/vritika/nltk_data...\n",
      "[nltk_data]   Package stopwords is already up-to-date!\n",
      "[nltk_data] Downloading package punkt to /Users/vritika/nltk_data...\n",
      "[nltk_data]   Package punkt is already up-to-date!\n",
      "[nltk_data] Downloading package punkt_tab to\n",
      "[nltk_data]     /Users/vritika/nltk_data...\n",
      "[nltk_data]   Package punkt_tab is already up-to-date!\n",
      "[nltk_data] Downloading package wordnet to /Users/vritika/nltk_data...\n",
      "[nltk_data]   Package wordnet is already up-to-date!\n"
     ]
    },
    {
     "data": {
      "text/plain": [
       "True"
      ]
     },
     "execution_count": 3,
     "metadata": {},
     "output_type": "execute_result"
    }
   ],
   "source": [
    "import kagglehub\n",
    "import string\n",
    "import nltk\n",
    "from nltk.tokenize import word_tokenize\n",
    "from nltk.corpus import stopwords\n",
    "from nltk.stem import PorterStemmer, WordNetLemmatizer\n",
    "from sklearn.feature_extraction.text import TfidfVectorizer\n",
    "import matplotlib.pyplot as plt\n",
    "import seaborn as sns\n",
    "from collections import Counter\n",
    "from sklearn.model_selection import train_test_split\n",
    "from sklearn.linear_model import LogisticRegression\n",
    "from sklearn.naive_bayes import MultinomialNB\n",
    "from sklearn.svm import LinearSVC\n",
    "from sklearn.metrics import accuracy_score, classification_report\n",
    "import os\n",
    "import pandas as pd\n",
    "!pip install joblib\n",
    "import joblib\n",
    "nltk.download('stopwords')\n",
    "nltk.download('punkt')\n",
    "nltk.download('punkt_tab')\n",
    "nltk.download('wordnet')"
   ]
  },
  {
   "cell_type": "code",
   "execution_count": 4,
   "metadata": {
    "colab": {
     "base_uri": "https://localhost:8080/"
    },
    "id": "GKjI77eHV0o3",
    "outputId": "69f1cff8-f52b-449c-edfe-503ad4b93a1e"
   },
   "outputs": [
    {
     "name": "stdout",
     "output_type": "stream",
     "text": [
      "Path to dataset files: /Users/vritika/.cache/kagglehub/datasets/shanegerami/ai-vs-human-text/versions/1\n"
     ]
    }
   ],
   "source": [
    "path = kagglehub.dataset_download(\"shanegerami/ai-vs-human-text\")\n",
    "\n",
    "print(\"Path to dataset files:\", path)"
   ]
  },
  {
   "cell_type": "code",
   "execution_count": 5,
   "metadata": {
    "colab": {
     "base_uri": "https://localhost:8080/"
    },
    "id": "hDa-Mqg7Ns3g",
    "outputId": "c49face7-063b-488a-bb5d-14685917d22a"
   },
   "outputs": [
    {
     "name": "stdout",
     "output_type": "stream",
     "text": [
      "name of file in the folder :  ['AI_Human.csv']\n"
     ]
    }
   ],
   "source": [
    "list_file=os.listdir(path)\n",
    "print(f\"name of file in the folder :  {list_file}\")"
   ]
  },
  {
   "cell_type": "code",
   "execution_count": 6,
   "metadata": {},
   "outputs": [],
   "source": [
    "# Load the data\n",
    "df = pd.read_csv(f\"{path}/{list_file[0]}\", nrows=90000)\n",
    "\n",
    "# Separate the two classes\n",
    "df_0 = df[df['generated'] == 0.0]\n",
    "df_1 = df[df['generated'] == 1.0]\n",
    "\n",
    "# Sample 16,000 rows from each class (with or without replacement depending on available data)\n",
    "df_0_sampled = df_0.sample(n=25000, random_state=42)\n",
    "df_1_sampled = df_1.sample(n=16000, random_state=42)\n",
    "\n",
    "# Combine to form the balanced dataset\n",
    "df = pd.concat([df_0_sampled, df_1_sampled]).sample(frac=1, random_state=42).reset_index(drop=True)"
   ]
  },
  {
   "cell_type": "code",
   "execution_count": 7,
   "metadata": {
    "colab": {
     "base_uri": "https://localhost:8080/",
     "height": 204
    },
    "id": "yYhOxZQPQBnV",
    "outputId": "deb99896-3201-4744-d90e-10f63060ef4c"
   },
   "outputs": [
    {
     "data": {
      "text/html": [
       "<div>\n",
       "<style scoped>\n",
       "    .dataframe tbody tr th:only-of-type {\n",
       "        vertical-align: middle;\n",
       "    }\n",
       "\n",
       "    .dataframe tbody tr th {\n",
       "        vertical-align: top;\n",
       "    }\n",
       "\n",
       "    .dataframe thead th {\n",
       "        text-align: right;\n",
       "    }\n",
       "</style>\n",
       "<table border=\"1\" class=\"dataframe\">\n",
       "  <thead>\n",
       "    <tr style=\"text-align: right;\">\n",
       "      <th></th>\n",
       "      <th>text</th>\n",
       "      <th>generated</th>\n",
       "    </tr>\n",
       "  </thead>\n",
       "  <tbody>\n",
       "    <tr>\n",
       "      <th>0</th>\n",
       "      <td>This landform on mars does look like a alien f...</td>\n",
       "      <td>0.0</td>\n",
       "    </tr>\n",
       "    <tr>\n",
       "      <th>1</th>\n",
       "      <td>Dear TEACHER_NAME, no I do not think all stude...</td>\n",
       "      <td>0.0</td>\n",
       "    </tr>\n",
       "    <tr>\n",
       "      <th>2</th>\n",
       "      <td>Students nowadays have more and more options i...</td>\n",
       "      <td>0.0</td>\n",
       "    </tr>\n",
       "    <tr>\n",
       "      <th>3</th>\n",
       "      <td>Dear Principle,\\n\\nStudents should be allowed ...</td>\n",
       "      <td>0.0</td>\n",
       "    </tr>\n",
       "    <tr>\n",
       "      <th>4</th>\n",
       "      <td>So why do ask other people for their own opini...</td>\n",
       "      <td>0.0</td>\n",
       "    </tr>\n",
       "  </tbody>\n",
       "</table>\n",
       "</div>"
      ],
      "text/plain": [
       "                                                text  generated\n",
       "0  This landform on mars does look like a alien f...        0.0\n",
       "1  Dear TEACHER_NAME, no I do not think all stude...        0.0\n",
       "2  Students nowadays have more and more options i...        0.0\n",
       "3  Dear Principle,\\n\\nStudents should be allowed ...        0.0\n",
       "4  So why do ask other people for their own opini...        0.0"
      ]
     },
     "execution_count": 7,
     "metadata": {},
     "output_type": "execute_result"
    }
   ],
   "source": [
    "df.head()"
   ]
  },
  {
   "cell_type": "code",
   "execution_count": 8,
   "metadata": {
    "colab": {
     "base_uri": "https://localhost:8080/"
    },
    "id": "QYQFlHvPNzXy",
    "outputId": "f1b3eb76-6d25-461e-faf1-6a9a9cc6745c"
   },
   "outputs": [
    {
     "data": {
      "text/plain": [
       "(41000, 2)"
      ]
     },
     "execution_count": 8,
     "metadata": {},
     "output_type": "execute_result"
    }
   ],
   "source": [
    "df.shape"
   ]
  },
  {
   "cell_type": "code",
   "execution_count": 9,
   "metadata": {
    "colab": {
     "base_uri": "https://localhost:8080/"
    },
    "id": "s0V53J3rQRNa",
    "outputId": "8c4ea830-4a62-498a-dcab-1e94a7786856"
   },
   "outputs": [
    {
     "data": {
      "text/plain": [
       "array([0., 1.])"
      ]
     },
     "execution_count": 9,
     "metadata": {},
     "output_type": "execute_result"
    }
   ],
   "source": [
    "df['generated'].unique()"
   ]
  },
  {
   "cell_type": "markdown",
   "metadata": {
    "id": "KC7ZfSF4NsSR"
   },
   "source": [
    "Dataset consists of 487235 rows and 2 columns namely text and generated.\n",
    "\n",
    "The column 'text' is the corpus and 'generated' has two values 0 and 1.\n",
    "\n",
    "Generated by AI : 1 and Human Text: 0"
   ]
  },
  {
   "cell_type": "code",
   "execution_count": 10,
   "metadata": {
    "id": "KsMgaXgnQZ9c"
   },
   "outputs": [],
   "source": [
    "#Preprocessing\n",
    "#1. Lowercasing\n",
    "\n",
    "df['text'] = df['text'].str.lower()"
   ]
  },
  {
   "cell_type": "code",
   "execution_count": 11,
   "metadata": {
    "id": "MyoPi7UpNk9w"
   },
   "outputs": [],
   "source": [
    "df['generated'] = df['generated'].astype(int)"
   ]
  },
  {
   "cell_type": "code",
   "execution_count": 13,
   "metadata": {
    "id": "yaHuU9ThXLX0"
   },
   "outputs": [],
   "source": [
    "#2. Removing Punctuation\n",
    "df['text'] = df['text'].str.translate(str.maketrans('', '', string.punctuation))"
   ]
  },
  {
   "cell_type": "code",
   "execution_count": 14,
   "metadata": {
    "id": "Myl2NVvJahbv"
   },
   "outputs": [],
   "source": [
    "#3. Removing Extra Spaces\n",
    "df['text'] = df['text'].str.strip()\n",
    "df['text'] = df['text'].str.replace(r'\\s+', ' ', regex=True)"
   ]
  },
  {
   "cell_type": "code",
   "execution_count": 15,
   "metadata": {
    "id": "3f3mEJSqoEYl"
   },
   "outputs": [],
   "source": [
    "df['tokens'] = df['text'].apply(word_tokenize)"
   ]
  },
  {
   "cell_type": "code",
   "execution_count": 16,
   "metadata": {
    "colab": {
     "base_uri": "https://localhost:8080/",
     "height": 507
    },
    "id": "jCluULuXxeLA",
    "outputId": "cf8462ac-f3db-4640-b1d1-06954c9d0878"
   },
   "outputs": [
    {
     "data": {
      "image/png": "[encoded data removed]",
      "text/plain": [
       "<Figure size 1000x500 with 1 Axes>"
      ]
     },
     "metadata": {},
     "output_type": "display_data"
    }
   ],
   "source": [
    "all_words = [word for tokens in df['tokens'] for word in tokens]\n",
    "\n",
    "# Step 2: Count word frequencies\n",
    "word_freq = Counter(all_words)\n",
    "\n",
    "# Step 3: Get top 20 most common words\n",
    "common_words = word_freq.most_common(20)\n",
    "\n",
    "# Step 4: Separate words and counts\n",
    "words, counts = zip(*common_words)\n",
    "\n",
    "# Step 5: Plot\n",
    "plt.figure(figsize=(10, 5))\n",
    "plt.bar(words, counts, color='skyblue')\n",
    "plt.xticks(rotation=45)\n",
    "plt.title(\"Top 20 Most Frequent Words\")\n",
    "plt.xlabel(\"Words\")\n",
    "plt.ylabel(\"Frequency\")\n",
    "plt.tight_layout()\n",
    "plt.show()"
   ]
  },
  {
   "cell_type": "code",
   "execution_count": 17,
   "metadata": {
    "id": "OlC94nlYrtnS"
   },
   "outputs": [],
   "source": [
    "stop_words = set(stopwords.words('english'))\n",
    "df['tokens'] = df['tokens'].apply(lambda tokens: [word for word in tokens if word not in stop_words])"
   ]
  },
  {
   "cell_type": "code",
   "execution_count": 18,
   "metadata": {
    "id": "iJzEr1NH1o2y"
   },
   "outputs": [],
   "source": [
    "#Stemming\n",
    "stemmer = PorterStemmer()\n",
    "df['stemmed_tokens'] = df['tokens'].apply(lambda tokens: [stemmer.stem(word) for word in tokens])"
   ]
  },
  {
   "cell_type": "code",
   "execution_count": 19,
   "metadata": {
    "id": "PT0ygE3u2R9L"
   },
   "outputs": [],
   "source": [
    "lemmatizer = WordNetLemmatizer()"
   ]
  },
  {
   "cell_type": "code",
   "execution_count": 20,
   "metadata": {
    "id": "VWvs-GNs3LPf"
   },
   "outputs": [],
   "source": [
    "df['tokens'] = df['tokens'].apply(lambda tokens: [lemmatizer.lemmatize(word) for word in tokens])"
   ]
  },
  {
   "cell_type": "code",
   "execution_count": 21,
   "metadata": {
    "id": "nmEtkgXk3ohP"
   },
   "outputs": [],
   "source": [
    "#vectorization\n",
    "df['clean_text'] = df['tokens'].apply(lambda tokens: ' '.join(tokens))"
   ]
  },
  {
   "cell_type": "code",
   "execution_count": 22,
   "metadata": {
    "colab": {
     "base_uri": "https://localhost:8080/",
     "height": 238
    },
    "id": "RX_zRqc1nLUg",
    "outputId": "c66a1e6e-564b-4df5-fe9a-ad3c4c4d9d3c"
   },
   "outputs": [
    {
     "data": {
      "text/plain": [
       "0    landform mar look like alien face another regu...\n",
       "1    dear teachername think student required commun...\n",
       "2    student nowadays option classroom ever past wh...\n",
       "3    dear principle student allowed use phone free ...\n",
       "4    ask people opinion help u make better choice w...\n",
       "Name: clean_text, dtype: object"
      ]
     },
     "execution_count": 22,
     "metadata": {},
     "output_type": "execute_result"
    }
   ],
   "source": [
    "df['clean_text'].head()"
   ]
  },
  {
   "cell_type": "code",
   "execution_count": 53,
   "metadata": {
    "id": "ndOWH_qZndqd"
   },
   "outputs": [],
   "source": [
    "vectorizer = TfidfVectorizer(max_features=100)"
   ]
  },
  {
   "cell_type": "code",
   "execution_count": 54,
   "metadata": {
    "id": "vO89N4Brnmxh"
   },
   "outputs": [],
   "source": [
    "X = vectorizer.fit_transform(df['clean_text'])\n",
    "y = df['generated']"
   ]
  },
  {
   "cell_type": "code",
   "execution_count": 55,
   "metadata": {
    "id": "Cza4y3aXnvMl"
   },
   "outputs": [],
   "source": [
    "# 1. Split Data\n",
    "X_train, X_test, y_train, y_test = train_test_split(X, y, test_size=0.2, random_state=42)"
   ]
  },
  {
   "cell_type": "code",
   "execution_count": 56,
   "metadata": {
    "colab": {
     "base_uri": "https://localhost:8080/"
    },
    "id": "l66vOm0lqhsg",
    "outputId": "18790d42-6304-4901-d6d2-2c7cb0d146cc"
   },
   "outputs": [
    {
     "name": "stdout",
     "output_type": "stream",
     "text": [
      "Logistic Regression Accuracy: 0.9264634146341464\n"
     ]
    }
   ],
   "source": [
    "#1 . L O G I S T I C  R E G R E S S I O N\n",
    "log_model = LogisticRegression(max_iter=1000)\n",
    "log_model.fit(X_train, y_train)\n",
    "log_preds = log_model.predict(X_test)\n",
    "print(\"Logistic Regression Accuracy:\", accuracy_score(y_test, log_preds))"
   ]
  },
  {
   "cell_type": "code",
   "execution_count": 57,
   "metadata": {
    "colab": {
     "base_uri": "https://localhost:8080/"
    },
    "id": "Dud15-8-quMv",
    "outputId": "47cea5b1-dc6f-416e-e56f-ed3ecac7e543"
   },
   "outputs": [
    {
     "name": "stdout",
     "output_type": "stream",
     "text": [
      "Naive Bayes Accuracy: 0.8628048780487805\n"
     ]
    }
   ],
   "source": [
    "#2. N A I V E  B A Y E S\n",
    "nb_model = MultinomialNB()\n",
    "nb_model.fit(X_train, y_train)\n",
    "nb_preds = nb_model.predict(X_test)\n",
    "print(\"Naive Bayes Accuracy:\", accuracy_score(y_test, nb_preds))"
   ]
  },
  {
   "cell_type": "code",
   "execution_count": 58,
   "metadata": {
    "colab": {
     "base_uri": "https://localhost:8080/"
    },
    "id": "8oe37m0wq2Lc",
    "outputId": "cd6bdba6-2898-4651-baeb-e33541d3abb7"
   },
   "outputs": [
    {
     "name": "stdout",
     "output_type": "stream",
     "text": [
      "SVM Accuracy: 0.9248780487804878\n"
     ]
    }
   ],
   "source": [
    "#3. S V M\n",
    "svm_model = LinearSVC()\n",
    "svm_model.fit(X_train, y_train)\n",
    "svm_preds = svm_model.predict(X_test)\n",
    "print(\"SVM Accuracy:\", accuracy_score(y_test, svm_preds))"
   ]
  },
  {
   "cell_type": "code",
   "execution_count": 59,
   "metadata": {
    "colab": {
     "base_uri": "https://localhost:8080/"
    },
    "id": "dI4Lwd03q6Vn",
    "outputId": "4a675e6c-50ed-4286-dfea-4e589e4070b7"
   },
   "outputs": [
    {
     "name": "stdout",
     "output_type": "stream",
     "text": [
      "\n",
      "=== Classification Report (Logistic) ===\n",
      "              precision    recall  f1-score   support\n",
      "\n",
      "           0       0.93      0.95      0.94      5049\n",
      "           1       0.92      0.89      0.90      3151\n",
      "\n",
      "    accuracy                           0.93      8200\n",
      "   macro avg       0.92      0.92      0.92      8200\n",
      "weighted avg       0.93      0.93      0.93      8200\n",
      "\n",
      "\n",
      "=== Classification Report (Naive Bayes) ===\n",
      "              precision    recall  f1-score   support\n",
      "\n",
      "           0       0.84      0.95      0.90      5049\n",
      "           1       0.91      0.72      0.80      3151\n",
      "\n",
      "    accuracy                           0.86      8200\n",
      "   macro avg       0.88      0.84      0.85      8200\n",
      "weighted avg       0.87      0.86      0.86      8200\n",
      "\n",
      "\n",
      "=== Classification Report (SVM) ===\n",
      "              precision    recall  f1-score   support\n",
      "\n",
      "           0       0.93      0.95      0.94      5049\n",
      "           1       0.91      0.89      0.90      3151\n",
      "\n",
      "    accuracy                           0.92      8200\n",
      "   macro avg       0.92      0.92      0.92      8200\n",
      "weighted avg       0.92      0.92      0.92      8200\n",
      "\n"
     ]
    }
   ],
   "source": [
    "print(\"\\n=== Classification Report (Logistic) ===\")\n",
    "print(classification_report(y_test, log_preds))\n",
    "\n",
    "print(\"\\n=== Classification Report (Naive Bayes) ===\")\n",
    "print(classification_report(y_test, nb_preds))\n",
    "\n",
    "print(\"\\n=== Classification Report (SVM) ===\")\n",
    "print(classification_report(y_test, svm_preds))\n"
   ]
  },
  {
   "cell_type": "code",
   "execution_count": 60,
   "metadata": {
    "colab": {
     "base_uri": "https://localhost:8080/",
     "height": 472
    },
    "id": "dhLi0i3-2yWj",
    "outputId": "f6036a4b-5c2a-49a4-d3cd-08cff78010f3"
   },
   "outputs": [
    {
     "data": {
      "image/png": "[encoded data removed]",
      "text/plain": [
       "<Figure size 640x480 with 2 Axes>"
      ]
     },
     "metadata": {},
     "output_type": "display_data"
    }
   ],
   "source": [
    "from sklearn.metrics import confusion_matrix, ConfusionMatrixDisplay\n",
    "# y_test: actual labels\n",
    "# y_pred: predicted labels (from your model)\n",
    "\n",
    "cm1 = confusion_matrix(y_test, log_preds)\n",
    "disp = ConfusionMatrixDisplay(confusion_matrix=cm1, display_labels=['0', '1'])\n",
    "disp.plot(cmap='Blues')\n",
    "plt.title(\"Confusion Matrix\")\n",
    "plt.show()"
   ]
  },
  {
   "cell_type": "code",
   "execution_count": 61,
   "metadata": {
    "colab": {
     "base_uri": "https://localhost:8080/"
    },
    "id": "gK0ZYFQL48Tn",
    "outputId": "b1107316-fd2f-4b09-e175-e5b69948bae8"
   },
   "outputs": [
    {
     "data": {
      "text/plain": [
       "['vectorizer.pkl']"
      ]
     },
     "execution_count": 61,
     "metadata": {},
     "output_type": "execute_result"
    }
   ],
   "source": [
    "joblib.dump(log_model, 'logistic_model.pkl')\n",
    "joblib.dump(nb_model, 'naive_bayes_model.pkl')\n",
    "joblib.dump(svm_model, 'svm_model.pkl')\n",
    "joblib.dump(vectorizer, 'vectorizer.pkl')"
   ]
  },
  {
   "cell_type": "code",
   "execution_count": 62,
   "metadata": {
    "colab": {
     "base_uri": "https://localhost:8080/",
     "height": 17
    },
    "id": "V7qxj_fA5FA_",
    "outputId": "62af110e-d17c-41a5-d1e6-c33bb9846084"
   },
   "outputs": [],
   "source": [
    "# from google.colab import files\n",
    "# files.download('logistic_model.pkl')\n",
    "# files.download('naive_bayes_model.pkl')\n",
    "# files.download('svm_model.pkl')\n",
    "# files.download('vectorizer.pkl')"
   ]
  },
  {
   "cell_type": "code",
   "execution_count": 66,
   "metadata": {
    "colab": {
     "base_uri": "https://localhost:8080/"
    },
    "id": "12BsFj4iAdgW",
    "outputId": "a4bfedf6-b838-4a2a-ba35-0ad497f0d16a"
   },
   "outputs": [
    {
     "name": "stdin",
     "output_type": "stream",
     "text": [
      "Enter a sentence to check if it's AI-generated or Human-written:\n",
      "  life on another planet like mars even if there was a alien civilazation why isnt there any more of these or different formation and buildings on mars that is why it is just a regular landform on mars well this mesa is fooling people because it does look like a face but it is just another mesa the shadow are just placed coincedentily the landform is pretty big so it coudlnt be built fast enough for it to go unnoticed plus nasa isnt hiding anything why would they need to that is one of the reasons why i think it is a coincedent even though nasa seems like they want to cover it they really dont want to because it will be the biggest find ever in space age history we send probes and rovers for research and to fin\n"
     ]
    },
    {
     "name": "stdout",
     "output_type": "stream",
     "text": [
      "This text is likely Human-written.\n"
     ]
    }
   ],
   "source": [
    "vectorizer = joblib.load('vectorizer.pkl')\n",
    "model = joblib.load('logistic_model.pkl')\n",
    "\n",
    "def predict_text():\n",
    "    user_input = input(\"Enter a sentence to check if it's AI-generated or Human-written:\\n\")\n",
    "\n",
    "    # Preprocessing and vectorizing\n",
    "    transformed_input = vectorizer.transform([user_input])\n",
    "\n",
    "    # Predict\n",
    "    prediction = model.predict(transformed_input)\n",
    "\n",
    "    # Output\n",
    "    if prediction[0] == 1:\n",
    "        print(\" This text is likely AI-generated.\")\n",
    "    else:\n",
    "        print(\"This text is likely Human-written.\")\n",
    "\n",
    "\n",
    "# Run it\n",
    "predict_text()"
   ]
  },
  {
   "cell_type": "code",
   "execution_count": 70,
   "metadata": {},
   "outputs": [
    {
     "name": "stdin",
     "output_type": "stream",
     "text": [
      "Enter a sentence to check if it's AI-generated or Human-written:\n",
      " r resulting in healthier citizens and a more sustainable environment 2 reduced greenhouse gas emissions cars and other motor vehicles contribute significantly to greenhouse gas emissions which are major factors in global warming eliminating cars can significantly decrease these emissions and mitigate their harmful effects on the environment 3 better mobility carfree cities prioritize walking bicycling and public transportation by encouraging these alternative modes of transportation they promote physical activity reduce traffic congestion and improve overall urban mobility 4 enhanced livability carfree cities often feature wider sidewalks pedestrian zones and bicycle paths making them more pleasant places to live and work additionally the reduction in noise pollution from fewer cars contributes to a more serene atmosphere fostering stronger community connections and overall quality of life 5 economic benefits by reducing the need for costly road infrastructure and maintenance carfree cities can allocate resources to other areas such as public amenities or social services moreover the elimination of parking spaces can lead to the creation of more green spaces which further enhance urban livability challenges of carfree cities 1 infrastructure limitations transitioning an existing city to a carfree model can be challenging as infrastructure may be insufficient to support the increased demand for public transportation walking paths and bicycle lanes 2 social resistance many individuals may be resistant to the idea of giving up their vehicles especially in areas with strong car culture or where public transportation is inadequate or unreliable 3 economic constraints the implementation of\n"
     ]
    },
    {
     "name": "stdout",
     "output_type": "stream",
     "text": [
      " This text is likely AI-generated.\n"
     ]
    }
   ],
   "source": [
    "predict_text()"
   ]
  }
 ],
 "metadata": {
  "colab": {
   "provenance": []
  },
  "kernelspec": {
   "display_name": "Python 3 (ipykernel)",
   "language": "python",
   "name": "python3"
  },
  "language_info": {
   "codemirror_mode": {
    "name": "ipython",
    "version": 3
   },
   "file_extension": ".py",
   "mimetype": "text/x-python",
   "name": "python",
   "nbconvert_exporter": "python",
   "pygments_lexer": "ipython3",
   "version": "3.13.5"
  }
 },
 "nbformat": 4,
 "nbformat_minor": 4
}
